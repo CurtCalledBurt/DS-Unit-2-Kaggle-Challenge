{
  "nbformat": 4,
  "nbformat_minor": 0,
  "metadata": {
    "kernelspec": {
      "display_name": "Python 3",
      "language": "python",
      "name": "python3"
    },
    "language_info": {
      "codemirror_mode": {
        "name": "ipython",
        "version": 3
      },
      "file_extension": ".py",
      "mimetype": "text/x-python",
      "name": "python",
      "nbconvert_exporter": "python",
      "pygments_lexer": "ipython3",
      "version": "3.7.3"
    },
    "colab": {
      "name": "assignment_kaggle_challenge_3.ipynb",
      "provenance": [],
      "include_colab_link": true
    }
  },
  "cells": [
    {
      "cell_type": "markdown",
      "metadata": {
        "id": "view-in-github",
        "colab_type": "text"
      },
      "source": [
        "<a href=\"https://colab.research.google.com/github/CurtCalledBurt/DS-Unit-2-Kaggle-Challenge/blob/master/module3/assignment_kaggle_challenge_3.ipynb\" target=\"_parent\"><img src=\"https://colab.research.google.com/assets/colab-badge.svg\" alt=\"Open In Colab\"/></a>"
      ]
    },
    {
      "cell_type": "markdown",
      "metadata": {
        "id": "B6xoZtF67yZo",
        "colab_type": "text"
      },
      "source": [
        "Lambda School Data Science, Unit 2: Predictive Modeling\n",
        "\n",
        "# Kaggle Challenge, Module 3\n",
        "\n",
        "\n",
        "## Assignment\n",
        "- [ ] [Review requirements for your portfolio project](https://lambdaschool.github.io/ds/unit2), then submit your dataset.\n",
        "- [ ] Continue to participate in our Kaggle challenge. \n",
        "- [ ] Use scikit-learn for hyperparameter optimization with RandomizedSearchCV.\n",
        "- [ ] Submit your predictions to our Kaggle competition. (Go to our Kaggle InClass competition webpage. Use the blue **Submit Predictions** button to upload your CSV file. Or you can use the Kaggle API to submit your predictions.)\n",
        "- [ ] Commit your notebook to your fork of the GitHub repo.\n",
        "\n",
        "## Stretch Goals\n",
        "\n",
        "### Reading\n",
        "- Jake VanderPlas, [Python Data Science Handbook, Chapter 5.3](https://jakevdp.github.io/PythonDataScienceHandbook/05.03-hyperparameters-and-model-validation.html), Hyperparameters and Model Validation\n",
        "- Jake VanderPlas, [Statistics for Hackers](https://speakerdeck.com/jakevdp/statistics-for-hackers?slide=107)\n",
        "- Ron Zacharski, [A Programmer's Guide to Data Mining, Chapter 5](http://guidetodatamining.com/chapter5/), 10-fold cross validation\n",
        "- Sebastian Raschka, [A Basic Pipeline and Grid Search Setup](https://github.com/rasbt/python-machine-learning-book/blob/master/code/bonus/svm_iris_pipeline_and_gridsearch.ipynb)\n",
        "- Peter Worcester, [A Comparison of Grid Search and Randomized Search Using Scikit Learn](https://blog.usejournal.com/a-comparison-of-grid-search-and-randomized-search-using-scikit-learn-29823179bc85)\n",
        "\n",
        "### Doing\n",
        "- Add your own stretch goals!\n",
        "- Try other [categorical encodings](https://contrib.scikit-learn.org/categorical-encoding/). See the previous assignment notebook for details.\n",
        "- In additon to `RandomizedSearchCV`, scikit-learn has [`GridSearchCV`](https://scikit-learn.org/stable/modules/generated/sklearn.model_selection.GridSearchCV.html). Another library called scikit-optimize has [`BayesSearchCV`](https://scikit-optimize.github.io/notebooks/sklearn-gridsearchcv-replacement.html). Experiment with these alternatives.\n",
        "- _[Introduction to Machine Learning with Python](http://shop.oreilly.com/product/0636920030515.do)_ discusses options for \"Grid-Searching Which Model To Use\" in Chapter 6:\n",
        "\n",
        "> You can even go further in combining GridSearchCV and Pipeline: it is also possible to search over the actual steps being performed in the pipeline (say whether to use StandardScaler or MinMaxScaler). This leads to an even bigger search space and should be considered carefully. Trying all possible solutions is usually not a viable machine learning strategy. However, here is an example comparing a RandomForestClassifier and an SVC ...\n",
        "\n",
        "The example is shown in [the accompanying notebook](https://github.com/amueller/introduction_to_ml_with_python/blob/master/06-algorithm-chains-and-pipelines.ipynb), code cells 35-37. Could you apply this concept to your own pipelines?\n"
      ]
    },
    {
      "cell_type": "markdown",
      "metadata": {
        "id": "uVXwNakV7yZr",
        "colab_type": "text"
      },
      "source": [
        "### BONUS: Stacking!\n",
        "\n",
        "Here's some code you can use to \"stack\" multiple submissions, which is another form of ensembling:\n",
        "\n",
        "```python\n",
        "import pandas as pd\n",
        "\n",
        "# Filenames of your submissions you want to ensemble\n",
        "files = ['submission-01.csv', 'submission-02.csv', 'submission-03.csv']\n",
        "\n",
        "target = 'status_group'\n",
        "submissions = (pd.read_csv(file)[[target]] for file in files)\n",
        "ensemble = pd.concat(submissions, axis='columns')\n",
        "majority_vote = ensemble.mode(axis='columns')[0]\n",
        "\n",
        "sample_submission = pd.read_csv('sample_submission.csv')\n",
        "submission = sample_submission.copy()\n",
        "submission[target] = majority_vote\n",
        "submission.to_csv('my-ultimate-ensemble-submission.csv', index=False)\n",
        "```"
      ]
    },
    {
      "cell_type": "code",
      "metadata": {
        "id": "AWuo2-0m7yZt",
        "colab_type": "code",
        "colab": {}
      },
      "source": [
        "%%capture\n",
        "import sys\n",
        "\n",
        "# If you're on Colab:\n",
        "if 'google.colab' in sys.modules:\n",
        "    DATA_PATH = 'https://raw.githubusercontent.com/LambdaSchool/DS-Unit-2-Kaggle-Challenge/master/data/'\n",
        "    !pip install category_encoders==2.*\n",
        "\n",
        "# If you're working locally:\n",
        "else:\n",
        "    DATA_PATH = '../data/'"
      ],
      "execution_count": 0,
      "outputs": []
    },
    {
      "cell_type": "code",
      "metadata": {
        "id": "bHGDAAVf7yZx",
        "colab_type": "code",
        "colab": {}
      },
      "source": [
        "import pandas as pd\n",
        "\n",
        "# Merge train_features.csv & train_labels.csv\n",
        "train = pd.merge(pd.read_csv(DATA_PATH+'waterpumps/train_features.csv'), \n",
        "                 pd.read_csv(DATA_PATH+'waterpumps/train_labels.csv'))\n",
        "\n",
        "# Read test_features.csv & sample_submission.csv\n",
        "test = pd.read_csv(DATA_PATH+'waterpumps/test_features.csv')\n",
        "sample_submission = pd.read_csv(DATA_PATH+'waterpumps/sample_submission.csv')"
      ],
      "execution_count": 0,
      "outputs": []
    },
    {
      "cell_type": "code",
      "metadata": {
        "id": "eROkWXsj7yZz",
        "colab_type": "code",
        "colab": {}
      },
      "source": [
        "should_not_have_zeroes_or_close_to_zeroes = ['amount_tsh', 'longitude', \n",
        "                                             'latitude', 'num_private',\n",
        "                                             'construction_year']\n",
        "\n",
        "should_nots = should_not_have_zeroes_or_close_to_zeroes\n",
        "\n",
        "def wrangle(data):\n",
        "  import numpy as np\n",
        "  import pandas as pd\n",
        "  \n",
        "  # Prevents 'SettingWithCopyWarning' whatever that is\n",
        "  data = data.copy()\n",
        "  \n",
        "  # input NaN's instead of zeroes and close to zero values where there should be NaN's\n",
        "  for col in should_not_have_zeroes_or_close_to_zeroes:\n",
        "    data[col] = np.where(data[col].between(-0.0001, 0.0001), np.nan, data[col])\n",
        "  \n",
        "  # convert days of year to datetime\n",
        "  data['date_recorded'] = pd.to_datetime(data['date_recorded'])\n",
        "  #OrdinalEncoder seems to not like datetime, so we drop all information except the year of date_recorded\n",
        "  data['date_recorded'] = data['date_recorded'].dt.year\n",
        "  \n",
        "  # creat a feature of time between last inspection and construction\n",
        "  data['time_between_inspections'] = data['date_recorded'] - data['construction_year']\n",
        "  \n",
        "  return(data)"
      ],
      "execution_count": 0,
      "outputs": []
    },
    {
      "cell_type": "code",
      "metadata": {
        "id": "0K291k-_8c0O",
        "colab_type": "code",
        "colab": {}
      },
      "source": [
        "train = wrangle(train)\n",
        "test = wrangle(test)"
      ],
      "execution_count": 0,
      "outputs": []
    },
    {
      "cell_type": "code",
      "metadata": {
        "id": "fObsTYE29Cev",
        "colab_type": "code",
        "colab": {}
      },
      "source": [
        "target = 'status_group'\n",
        "features = train.columns.drop([target])\n",
        "\n",
        "X_train = train[features]\n",
        "y_train = train[target]\n",
        "\n",
        "X_test = test[features]\n",
        "# no y_test dataframe b/c we don't have those labels\n",
        "# y_test = test[target]"
      ],
      "execution_count": 0,
      "outputs": []
    },
    {
      "cell_type": "code",
      "metadata": {
        "id": "ZZfOW-pB9XT8",
        "colab_type": "code",
        "colab": {}
      },
      "source": [
        "from sklearn.pipeline import make_pipeline\n",
        "from sklearn.ensemble import RandomForestClassifier\n",
        "from sklearn.impute import SimpleImputer\n",
        "import category_encoders as ce\n",
        "\n",
        "\n",
        "pipeline = make_pipeline(\n",
        "    ce.OrdinalEncoder(),\n",
        "    SimpleImputer(strategy='median'),\n",
        "    RandomForestClassifier(n_estimators=100, random_state=2019, n_jobs=-1)\n",
        ")"
      ],
      "execution_count": 0,
      "outputs": []
    },
    {
      "cell_type": "code",
      "metadata": {
        "id": "1YIpEF2eAV3Y",
        "colab_type": "code",
        "colab": {
          "base_uri": "https://localhost:8080/",
          "height": 34
        },
        "outputId": "fb55c098-41a8-41e8-9448-b0fbbf76a71d"
      },
      "source": [
        "pipeline.fit(X_train, y_train)\n",
        "\n",
        "print('Train Accuracy: ', pipeline.score(X_train, y_train))"
      ],
      "execution_count": 11,
      "outputs": [
        {
          "output_type": "stream",
          "text": [
            "Train Accuracy:  0.99996632996633\n"
          ],
          "name": "stdout"
        }
      ]
    },
    {
      "cell_type": "code",
      "metadata": {
        "id": "KgxgFv19AkgA",
        "colab_type": "code",
        "colab": {}
      },
      "source": [
        "from sklearn.model_selection import cross_val_score\n",
        "\n",
        "k=3\n",
        "scores = cross_val_score(pipeline, X_train, y_train, \n",
        "                        cv = k, \n",
        "                        scoring=None)\n",
        "# scoring=None isn't necessary, you could leave it out. It just tells cross_val_score\n",
        "# to score using the model's default scoring method"
      ],
      "execution_count": 0,
      "outputs": []
    },
    {
      "cell_type": "code",
      "metadata": {
        "id": "Djk5YzNECwpe",
        "colab_type": "code",
        "colab": {
          "base_uri": "https://localhost:8080/",
          "height": 34
        },
        "outputId": "70672fdf-db1c-49fa-a3a3-757934dd568d"
      },
      "source": [
        "scores"
      ],
      "execution_count": 14,
      "outputs": [
        {
          "output_type": "execute_result",
          "data": {
            "text/plain": [
              "array([0.80681818, 0.80757576, 0.8059596 ])"
            ]
          },
          "metadata": {
            "tags": []
          },
          "execution_count": 14
        }
      ]
    },
    {
      "cell_type": "code",
      "metadata": {
        "id": "hcF9n7mmFzF5",
        "colab_type": "code",
        "colab": {
          "base_uri": "https://localhost:8080/",
          "height": 202
        },
        "outputId": "ebb2afe6-1543-415c-85af-41d9cf3a74f1"
      },
      "source": [
        "from sklearn.model_selection import RandomizedSearchCV\n",
        "from scipy.stats import randint, uniform\n",
        "\n",
        "\n",
        "param_distributions = {\n",
        "    'simpleimputer__strategy': ['mean', 'median'],\n",
        "    'randomforestclassifier__min_samples_leaf': randint(1, 50),\n",
        "    'randomforestclassifier__n_estimators': randint(50, 200),\n",
        "    'randomforestclassifier__max_depth': [5, 10, 15, 20, None],\n",
        "    'randomforestclassifier__max_features': uniform(0, 1)  \n",
        "}\n",
        "\n",
        "search_param = RandomizedSearchCV(\n",
        "    pipeline,\n",
        "    param_distributions=param_distributions,\n",
        "    n_iter=10,\n",
        "    cv=5,\n",
        "    return_train_score=True,\n",
        "    verbose=10,\n",
        "    n_jobs=-1\n",
        ")\n",
        "\n",
        "search_param.fit(X_train, y_train);"
      ],
      "execution_count": 25,
      "outputs": [
        {
          "output_type": "stream",
          "text": [
            "Fitting 5 folds for each of 10 candidates, totalling 50 fits\n"
          ],
          "name": "stdout"
        },
        {
          "output_type": "stream",
          "text": [
            "[Parallel(n_jobs=-1)]: Using backend LokyBackend with 2 concurrent workers.\n",
            "[Parallel(n_jobs=-1)]: Done   1 tasks      | elapsed:   10.7s\n",
            "[Parallel(n_jobs=-1)]: Done   4 tasks      | elapsed:   20.0s\n",
            "[Parallel(n_jobs=-1)]: Done   9 tasks      | elapsed:  3.8min\n",
            "[Parallel(n_jobs=-1)]: Done  14 tasks      | elapsed:  6.1min\n",
            "[Parallel(n_jobs=-1)]: Done  21 tasks      | elapsed:  8.0min\n",
            "[Parallel(n_jobs=-1)]: Done  28 tasks      | elapsed:  9.9min\n",
            "[Parallel(n_jobs=-1)]: Done  37 tasks      | elapsed: 13.5min\n",
            "[Parallel(n_jobs=-1)]: Done  46 tasks      | elapsed: 16.9min\n",
            "[Parallel(n_jobs=-1)]: Done  50 out of  50 | elapsed: 18.2min finished\n"
          ],
          "name": "stderr"
        }
      ]
    },
    {
      "cell_type": "code",
      "metadata": {
        "id": "4j4ip8JLLuyy",
        "colab_type": "code",
        "colab": {
          "base_uri": "https://localhost:8080/",
          "height": 70
        },
        "outputId": "36cda250-a98e-477d-aeeb-1fc69a7f8ff2"
      },
      "source": [
        "print('Best hyperparameters', search_param.best_params_)\n",
        "print('Cross-validation Score', search_param.best_score_)"
      ],
      "execution_count": 26,
      "outputs": [
        {
          "output_type": "stream",
          "text": [
            "Best hyperparameters {'randomforestclassifier__max_depth': 15, 'randomforestclassifier__max_features': 0.6090297513827546, 'randomforestclassifier__min_samples_leaf': 20, 'randomforestclassifier__n_estimators': 136, 'simpleimputer__strategy': 'median'}\n",
            "Cross-validation Score 0.7855218855218855\n"
          ],
          "name": "stdout"
        }
      ]
    },
    {
      "cell_type": "code",
      "metadata": {
        "id": "YNiXSbrGMgRF",
        "colab_type": "code",
        "colab": {
          "base_uri": "https://localhost:8080/",
          "height": 531
        },
        "outputId": "66decdc7-c01a-43ee-d934-82497f222fe5"
      },
      "source": [
        "pd.DataFrame(search_param.cv_results_).sort_values(by='rank_test_score')"
      ],
      "execution_count": 27,
      "outputs": [
        {
          "output_type": "execute_result",
          "data": {
            "text/html": [
              "<div>\n",
              "<style scoped>\n",
              "    .dataframe tbody tr th:only-of-type {\n",
              "        vertical-align: middle;\n",
              "    }\n",
              "\n",
              "    .dataframe tbody tr th {\n",
              "        vertical-align: top;\n",
              "    }\n",
              "\n",
              "    .dataframe thead th {\n",
              "        text-align: right;\n",
              "    }\n",
              "</style>\n",
              "<table border=\"1\" class=\"dataframe\">\n",
              "  <thead>\n",
              "    <tr style=\"text-align: right;\">\n",
              "      <th></th>\n",
              "      <th>mean_fit_time</th>\n",
              "      <th>std_fit_time</th>\n",
              "      <th>mean_score_time</th>\n",
              "      <th>std_score_time</th>\n",
              "      <th>param_randomforestclassifier__max_depth</th>\n",
              "      <th>param_randomforestclassifier__max_features</th>\n",
              "      <th>param_randomforestclassifier__min_samples_leaf</th>\n",
              "      <th>param_randomforestclassifier__n_estimators</th>\n",
              "      <th>param_simpleimputer__strategy</th>\n",
              "      <th>params</th>\n",
              "      <th>split0_test_score</th>\n",
              "      <th>split1_test_score</th>\n",
              "      <th>split2_test_score</th>\n",
              "      <th>split3_test_score</th>\n",
              "      <th>split4_test_score</th>\n",
              "      <th>mean_test_score</th>\n",
              "      <th>std_test_score</th>\n",
              "      <th>rank_test_score</th>\n",
              "      <th>split0_train_score</th>\n",
              "      <th>split1_train_score</th>\n",
              "      <th>split2_train_score</th>\n",
              "      <th>split3_train_score</th>\n",
              "      <th>split4_train_score</th>\n",
              "      <th>mean_train_score</th>\n",
              "      <th>std_train_score</th>\n",
              "    </tr>\n",
              "  </thead>\n",
              "  <tbody>\n",
              "    <tr>\n",
              "      <th>7</th>\n",
              "      <td>68.491120</td>\n",
              "      <td>0.327388</td>\n",
              "      <td>0.864774</td>\n",
              "      <td>0.072911</td>\n",
              "      <td>15</td>\n",
              "      <td>0.60903</td>\n",
              "      <td>20</td>\n",
              "      <td>136</td>\n",
              "      <td>median</td>\n",
              "      <td>{'randomforestclassifier__max_depth': 15, 'ran...</td>\n",
              "      <td>0.786297</td>\n",
              "      <td>0.782089</td>\n",
              "      <td>0.785774</td>\n",
              "      <td>0.783670</td>\n",
              "      <td>0.789779</td>\n",
              "      <td>0.785522</td>\n",
              "      <td>0.002608</td>\n",
              "      <td>1</td>\n",
              "      <td>0.809866</td>\n",
              "      <td>0.812012</td>\n",
              "      <td>0.811574</td>\n",
              "      <td>0.812395</td>\n",
              "      <td>0.813034</td>\n",
              "      <td>0.811776</td>\n",
              "      <td>0.001069</td>\n",
              "    </tr>\n",
              "    <tr>\n",
              "      <th>1</th>\n",
              "      <td>93.658983</td>\n",
              "      <td>1.130380</td>\n",
              "      <td>0.985174</td>\n",
              "      <td>0.043152</td>\n",
              "      <td>15</td>\n",
              "      <td>0.684606</td>\n",
              "      <td>24</td>\n",
              "      <td>164</td>\n",
              "      <td>mean</td>\n",
              "      <td>{'randomforestclassifier__max_depth': 15, 'ran...</td>\n",
              "      <td>0.784193</td>\n",
              "      <td>0.781247</td>\n",
              "      <td>0.785017</td>\n",
              "      <td>0.780724</td>\n",
              "      <td>0.788096</td>\n",
              "      <td>0.783855</td>\n",
              "      <td>0.002685</td>\n",
              "      <td>2</td>\n",
              "      <td>0.807277</td>\n",
              "      <td>0.807719</td>\n",
              "      <td>0.807976</td>\n",
              "      <td>0.808123</td>\n",
              "      <td>0.807710</td>\n",
              "      <td>0.807761</td>\n",
              "      <td>0.000288</td>\n",
              "    </tr>\n",
              "    <tr>\n",
              "      <th>3</th>\n",
              "      <td>15.906108</td>\n",
              "      <td>0.245973</td>\n",
              "      <td>0.632160</td>\n",
              "      <td>0.104564</td>\n",
              "      <td>None</td>\n",
              "      <td>0.219155</td>\n",
              "      <td>30</td>\n",
              "      <td>80</td>\n",
              "      <td>mean</td>\n",
              "      <td>{'randomforestclassifier__max_depth': None, 'r...</td>\n",
              "      <td>0.780490</td>\n",
              "      <td>0.776534</td>\n",
              "      <td>0.781481</td>\n",
              "      <td>0.778283</td>\n",
              "      <td>0.784896</td>\n",
              "      <td>0.780337</td>\n",
              "      <td>0.002857</td>\n",
              "      <td>3</td>\n",
              "      <td>0.799112</td>\n",
              "      <td>0.800480</td>\n",
              "      <td>0.798106</td>\n",
              "      <td>0.801242</td>\n",
              "      <td>0.801734</td>\n",
              "      <td>0.800135</td>\n",
              "      <td>0.001346</td>\n",
              "    </tr>\n",
              "    <tr>\n",
              "      <th>4</th>\n",
              "      <td>55.843328</td>\n",
              "      <td>0.590807</td>\n",
              "      <td>0.686899</td>\n",
              "      <td>0.101813</td>\n",
              "      <td>15</td>\n",
              "      <td>0.781165</td>\n",
              "      <td>31</td>\n",
              "      <td>87</td>\n",
              "      <td>median</td>\n",
              "      <td>{'randomforestclassifier__max_depth': 15, 'ran...</td>\n",
              "      <td>0.777460</td>\n",
              "      <td>0.776366</td>\n",
              "      <td>0.779714</td>\n",
              "      <td>0.777441</td>\n",
              "      <td>0.786243</td>\n",
              "      <td>0.779444</td>\n",
              "      <td>0.003570</td>\n",
              "      <td>4</td>\n",
              "      <td>0.797008</td>\n",
              "      <td>0.798460</td>\n",
              "      <td>0.799621</td>\n",
              "      <td>0.799621</td>\n",
              "      <td>0.800051</td>\n",
              "      <td>0.798952</td>\n",
              "      <td>0.001107</td>\n",
              "    </tr>\n",
              "    <tr>\n",
              "      <th>9</th>\n",
              "      <td>42.263103</td>\n",
              "      <td>9.700817</td>\n",
              "      <td>0.536434</td>\n",
              "      <td>0.135938</td>\n",
              "      <td>10</td>\n",
              "      <td>0.419022</td>\n",
              "      <td>1</td>\n",
              "      <td>154</td>\n",
              "      <td>mean</td>\n",
              "      <td>{'randomforestclassifier__max_depth': 10, 'ran...</td>\n",
              "      <td>0.761047</td>\n",
              "      <td>0.758017</td>\n",
              "      <td>0.761700</td>\n",
              "      <td>0.758249</td>\n",
              "      <td>0.765365</td>\n",
              "      <td>0.760875</td>\n",
              "      <td>0.002681</td>\n",
              "      <td>5</td>\n",
              "      <td>0.779478</td>\n",
              "      <td>0.781056</td>\n",
              "      <td>0.783186</td>\n",
              "      <td>0.782870</td>\n",
              "      <td>0.781322</td>\n",
              "      <td>0.781582</td>\n",
              "      <td>0.001342</td>\n",
              "    </tr>\n",
              "    <tr>\n",
              "      <th>8</th>\n",
              "      <td>24.945922</td>\n",
              "      <td>0.193296</td>\n",
              "      <td>0.347344</td>\n",
              "      <td>0.043361</td>\n",
              "      <td>10</td>\n",
              "      <td>0.55634</td>\n",
              "      <td>30</td>\n",
              "      <td>64</td>\n",
              "      <td>median</td>\n",
              "      <td>{'randomforestclassifier__max_depth': 10, 'ran...</td>\n",
              "      <td>0.753219</td>\n",
              "      <td>0.748422</td>\n",
              "      <td>0.755135</td>\n",
              "      <td>0.752189</td>\n",
              "      <td>0.758461</td>\n",
              "      <td>0.753485</td>\n",
              "      <td>0.003313</td>\n",
              "      <td>6</td>\n",
              "      <td>0.760917</td>\n",
              "      <td>0.761611</td>\n",
              "      <td>0.764078</td>\n",
              "      <td>0.763321</td>\n",
              "      <td>0.760932</td>\n",
              "      <td>0.762172</td>\n",
              "      <td>0.001295</td>\n",
              "    </tr>\n",
              "    <tr>\n",
              "      <th>2</th>\n",
              "      <td>42.010632</td>\n",
              "      <td>1.081902</td>\n",
              "      <td>0.526389</td>\n",
              "      <td>0.100789</td>\n",
              "      <td>10</td>\n",
              "      <td>0.937761</td>\n",
              "      <td>46</td>\n",
              "      <td>68</td>\n",
              "      <td>median</td>\n",
              "      <td>{'randomforestclassifier__max_depth': 10, 'ran...</td>\n",
              "      <td>0.750694</td>\n",
              "      <td>0.746318</td>\n",
              "      <td>0.751515</td>\n",
              "      <td>0.747306</td>\n",
              "      <td>0.758629</td>\n",
              "      <td>0.750892</td>\n",
              "      <td>0.004337</td>\n",
              "      <td>7</td>\n",
              "      <td>0.756876</td>\n",
              "      <td>0.758412</td>\n",
              "      <td>0.759512</td>\n",
              "      <td>0.758396</td>\n",
              "      <td>0.757249</td>\n",
              "      <td>0.758089</td>\n",
              "      <td>0.000938</td>\n",
              "    </tr>\n",
              "    <tr>\n",
              "      <th>5</th>\n",
              "      <td>9.116763</td>\n",
              "      <td>0.273380</td>\n",
              "      <td>0.629734</td>\n",
              "      <td>0.138324</td>\n",
              "      <td>10</td>\n",
              "      <td>0.0577847</td>\n",
              "      <td>40</td>\n",
              "      <td>154</td>\n",
              "      <td>mean</td>\n",
              "      <td>{'randomforestclassifier__max_depth': 10, 'ran...</td>\n",
              "      <td>0.739163</td>\n",
              "      <td>0.732514</td>\n",
              "      <td>0.740657</td>\n",
              "      <td>0.735859</td>\n",
              "      <td>0.743475</td>\n",
              "      <td>0.738333</td>\n",
              "      <td>0.003808</td>\n",
              "      <td>8</td>\n",
              "      <td>0.741135</td>\n",
              "      <td>0.744650</td>\n",
              "      <td>0.743855</td>\n",
              "      <td>0.744318</td>\n",
              "      <td>0.742477</td>\n",
              "      <td>0.743287</td>\n",
              "      <td>0.001306</td>\n",
              "    </tr>\n",
              "    <tr>\n",
              "      <th>6</th>\n",
              "      <td>40.459571</td>\n",
              "      <td>0.190575</td>\n",
              "      <td>0.466617</td>\n",
              "      <td>0.064182</td>\n",
              "      <td>5</td>\n",
              "      <td>0.600666</td>\n",
              "      <td>29</td>\n",
              "      <td>176</td>\n",
              "      <td>median</td>\n",
              "      <td>{'randomforestclassifier__max_depth': 5, 'rand...</td>\n",
              "      <td>0.724097</td>\n",
              "      <td>0.716186</td>\n",
              "      <td>0.715067</td>\n",
              "      <td>0.718434</td>\n",
              "      <td>0.727648</td>\n",
              "      <td>0.720286</td>\n",
              "      <td>0.004821</td>\n",
              "      <td>9</td>\n",
              "      <td>0.722553</td>\n",
              "      <td>0.725857</td>\n",
              "      <td>0.719550</td>\n",
              "      <td>0.720391</td>\n",
              "      <td>0.719730</td>\n",
              "      <td>0.721616</td>\n",
              "      <td>0.002375</td>\n",
              "    </tr>\n",
              "    <tr>\n",
              "      <th>0</th>\n",
              "      <td>7.255048</td>\n",
              "      <td>0.079424</td>\n",
              "      <td>0.372066</td>\n",
              "      <td>0.080023</td>\n",
              "      <td>5</td>\n",
              "      <td>0.17022</td>\n",
              "      <td>15</td>\n",
              "      <td>88</td>\n",
              "      <td>mean</td>\n",
              "      <td>{'randomforestclassifier__max_depth': 5, 'rand...</td>\n",
              "      <td>0.718037</td>\n",
              "      <td>0.713324</td>\n",
              "      <td>0.722475</td>\n",
              "      <td>0.720960</td>\n",
              "      <td>0.725543</td>\n",
              "      <td>0.720067</td>\n",
              "      <td>0.004151</td>\n",
              "      <td>10</td>\n",
              "      <td>0.719460</td>\n",
              "      <td>0.722616</td>\n",
              "      <td>0.723274</td>\n",
              "      <td>0.720918</td>\n",
              "      <td>0.719330</td>\n",
              "      <td>0.721120</td>\n",
              "      <td>0.001605</td>\n",
              "    </tr>\n",
              "  </tbody>\n",
              "</table>\n",
              "</div>"
            ],
            "text/plain": [
              "   mean_fit_time  std_fit_time  ...  mean_train_score  std_train_score\n",
              "7      68.491120      0.327388  ...          0.811776         0.001069\n",
              "1      93.658983      1.130380  ...          0.807761         0.000288\n",
              "3      15.906108      0.245973  ...          0.800135         0.001346\n",
              "4      55.843328      0.590807  ...          0.798952         0.001107\n",
              "9      42.263103      9.700817  ...          0.781582         0.001342\n",
              "8      24.945922      0.193296  ...          0.762172         0.001295\n",
              "2      42.010632      1.081902  ...          0.758089         0.000938\n",
              "5       9.116763      0.273380  ...          0.743287         0.001306\n",
              "6      40.459571      0.190575  ...          0.721616         0.002375\n",
              "0       7.255048      0.079424  ...          0.721120         0.001605\n",
              "\n",
              "[10 rows x 25 columns]"
            ]
          },
          "metadata": {
            "tags": []
          },
          "execution_count": 27
        }
      ]
    },
    {
      "cell_type": "code",
      "metadata": {
        "id": "fHM9drdoVVG6",
        "colab_type": "code",
        "colab": {}
      },
      "source": [
        "pipeline_best = search_param.best_estimator_\n",
        "\n",
        "y_pred = pipeline_best.predict(X_test)\n",
        "\n",
        "submission = sample_submission.copy()\n",
        "submission['status_group'] = y_pred\n",
        "submission.to_csv('Curtis-McKendrick-Pipes-RandomForestCV.csv', index=False)"
      ],
      "execution_count": 0,
      "outputs": []
    },
    {
      "cell_type": "code",
      "metadata": {
        "id": "GZpHFEvqV-V1",
        "colab_type": "code",
        "colab": {}
      },
      "source": [
        ""
      ],
      "execution_count": 0,
      "outputs": []
    }
  ]
}